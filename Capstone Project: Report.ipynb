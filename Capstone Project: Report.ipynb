{
    "nbformat_minor": 1, 
    "cells": [
        {
            "source": "# Capstone Project - The Battle of Neighborhoods (Peer-graded Assignment: Report - Introduction/Business Problem & Data Sections)\n\n## Title: Predicting largest immigrant ethnic groups from neighborhood restaurant data\n\n## Overview\n* Author: Patrick Dolloso\n* Date: Jan 19 2019\n* Github repository location: https://github.com/patrickdolloso/IBM-DataScience-Capstone/blob/master/Capstone%20Project:%20Report.ipynb\n\n## Introduction/Business Problem\n\n### Introduction\nWith the rise of globalization, many major cities are seeing a rise of immigration from all over the world. Economic centres such as New York, Toronto, London, etc. are known for being multicultural hubs and home to many world-class enthic/fusion restaurants. \n\n### Problem Definition\nCan we predict a multicultural city's major ethnic groups based on its most common restaurant categories?\n\n### Business application\nBy seeing if there is a correlation that exists between the major types of ethnic restaurants in each borough/neighborhood and the city's largest ethnic groups -many valuable applications can be used with this data, for example: tailoring a restaurant supplier or grocery store's inventory to accommodate the tastes of different neighborhoods.\n\n### Possible stakeholders/target audience\n* Suppliers of restaurants\n* Supermarket chains/grocery stores\n* Importers/Exporters\n* Prospective or landed immigrants\n* General businesses/companies\n\n## Data\n\n### Cities to be analyzed\n* Toronto: as the capital city of the province of Ontario, and the largest and most populous city in Canada -Toronto is known globally to be one of the most multicultural cities, a major economic hub, as well as one of the world's newest cities (incorporated as \"Toronto\" on March 6, 1834).\n* London: the largest and most popululous city in England and the United Kingdom, and known internationally as one of the most prominent, powerful, and influential cities in the word with a long history of migration as one of the oldest major settlements in history (with the earliest records of settlement in AD47).\n\n### About the data (and examples)\nThe data will consist of:\n* Neighborhoods or boroughs and their locations, for example: latitude, longitute, address\n* Restaurants and their ethnic categories, for example: Chinese, Italian, Indian, etc.\n* Immigration data from government sources (for reference), for example: immigration numbers, ethnic backgrounds, etc.\n\n### Methodology to execute and solve problem\n1. Firstly, the scraped Neighborhood/Borough names will be stored in a pandas dataframe\n2. Using the Foursquare API, the neighborhood locations (latitude, longitude) and the radius will be defined, which will produce a json data format. Also, 100 restaurants will be taken from the json data\n3. The restaurant categories will be extracted from the json data and added into the pandas dataframe\n4. The categories will be clustered into various ethnic groups (sushi = japanese, pizza = italian, etc.)\n5. The venues will be tabulated and a prediction of the largest ethnic groups by neighborhood will be produced\n6. This data will be compared to published data to predict largest immigrant ethnic group to see if restaurant categories have any influence on the ethnic groups present", 
            "cell_type": "markdown", 
            "metadata": {
                "collapsed": true
            }
        }
    ], 
    "metadata": {
        "kernelspec": {
            "display_name": "Python 3.5", 
            "name": "python3", 
            "language": "python"
        }, 
        "language_info": {
            "mimetype": "text/x-python", 
            "nbconvert_exporter": "python", 
            "version": "3.5.5", 
            "name": "python", 
            "file_extension": ".py", 
            "pygments_lexer": "ipython3", 
            "codemirror_mode": {
                "version": 3, 
                "name": "ipython"
            }
        }
    }, 
    "nbformat": 4
}